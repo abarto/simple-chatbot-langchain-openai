{
 "cells": [
  {
   "cell_type": "markdown",
   "id": "bf8ab415-a5f1-4f0f-ae89-259ce38ff902",
   "metadata": {},
   "source": [
    "# Building a Simple Chatbot using LangChain and OpenAI"
   ]
  },
  {
   "cell_type": "markdown",
   "id": "79e665b5",
   "metadata": {},
   "source": [
    "The purpose of this notebook is to show you how to build a simple chatbot using [LangChain](https://www.langchain.com/), and [OpenAI](https://openai.com/). The code is based on the [\"Build a Chatbot\"](https://python.langchain.com/v0.2/docs/tutorials/chatbot/) LangChain tutorial, but with modifications to store the chat history on a SQLite database."
   ]
  },
  {
   "cell_type": "code",
   "execution_count": 1,
   "id": "3c68a76b-a700-4d70-9d33-a9004a209a42",
   "metadata": {},
   "outputs": [
    {
     "data": {
      "text/plain": [
       "True"
      ]
     },
     "execution_count": 1,
     "metadata": {},
     "output_type": "execute_result"
    }
   ],
   "source": [
    "from dotenv import load_dotenv\n",
    "load_dotenv()"
   ]
  },
  {
   "cell_type": "code",
   "execution_count": 2,
   "id": "8d6d527e-674a-4513-801d-14268f9deffd",
   "metadata": {},
   "outputs": [],
   "source": [
    "from os import environ\n",
    "\n",
    "if not environ.get(\"OPENAI_API_KEY\"):\n",
    "    from getpass import getpass\n",
    "    environ[\"OPENAI_API_KEY\"] = getpass(\"OPENAI_API_KEY\")"
   ]
  },
  {
   "cell_type": "code",
   "execution_count": 3,
   "id": "70da7e59",
   "metadata": {},
   "outputs": [],
   "source": [
    "from functools import partial\n",
    "from pathlib import Path\n",
    "from random import choices\n",
    "from string import ascii_lowercase\n",
    "\n",
    "import gradio as gr\n",
    "\n",
    "from langchain_community.chat_message_histories import SQLChatMessageHistory\n",
    "from langchain_core.chat_history import BaseChatMessageHistory\n",
    "from langchain_core.messages import SystemMessage\n",
    "from langchain_core.prompts import ChatPromptTemplate, MessagesPlaceholder, HumanMessagePromptTemplate\n",
    "from langchain_core.runnables import Runnable, RunnablePassthrough\n",
    "from langchain_core.runnables.history import RunnableWithMessageHistory\n",
    "from langchain_openai import ChatOpenAI"
   ]
  },
  {
   "cell_type": "code",
   "execution_count": 4,
   "id": "6c4b0261",
   "metadata": {},
   "outputs": [],
   "source": [
    "# Initialize the OpenAI chat model (replace \"gpt-4o\" with your desired model)\n",
    "model = ChatOpenAI(model=\"gpt-4o\")"
   ]
  },
  {
   "cell_type": "code",
   "execution_count": 5,
   "id": "46421e18",
   "metadata": {},
   "outputs": [],
   "source": [
    "# Define the chat prompt template\n",
    "prompt = ChatPromptTemplate.from_messages(\n",
    "    [\n",
    "        SystemMessage(\n",
    "            content=\"You are a virtual assistant named 'SimpleChatBot'. You are an expert on video-games focused on point-and-click adventure games.\"\n",
    "        ),\n",
    "        MessagesPlaceholder(variable_name=\"history\"),\n",
    "        HumanMessagePromptTemplate.from_template(template=\"{input}\")\n",
    "    ]\n",
    ")"
   ]
  },
  {
   "cell_type": "code",
   "execution_count": 6,
   "id": "bc3d265d",
   "metadata": {},
   "outputs": [],
   "source": [
    "# Build the chain of processing steps for the chatbot\n",
    "chain = (\n",
    "    RunnablePassthrough.assign(\n",
    "        messages=lambda x: x[\"history\"][-10:]\n",
    "    )\n",
    "    | prompt\n",
    "    | model\n",
    ")"
   ]
  },
  {
   "cell_type": "code",
   "execution_count": 7,
   "id": "08292462",
   "metadata": {},
   "outputs": [],
   "source": [
    "connection_string = \"sqlite:///simple_chatbot.db\"\n",
    "\n",
    "# Delete the database file if it exists (optional, for clean start)\n",
    "Path(\"simple_chatbot.db\").unlink(missing_ok=True)\n",
    "\n",
    "def get_session_history(session_id: str) -> BaseChatMessageHistory:\n",
    "    \"\"\"\n",
    "    This function retrieves the chat message history for a specific session ID.\n",
    "    It uses the SQLChatMessageHistory class from the langchain_community library.\n",
    "    \"\"\"\n",
    "    return SQLChatMessageHistory(session_id, connection_string)\n",
    "\n",
    "# Wrap the chain with message history handling\n",
    "with_message_history = RunnableWithMessageHistory(\n",
    "    chain,\n",
    "    get_session_history,\n",
    "    input_messages_key=\"input\",\n",
    "    history_messages_key=\"history\",\n",
    ")"
   ]
  },
  {
   "cell_type": "code",
   "execution_count": 8,
   "id": "39ab6895",
   "metadata": {},
   "outputs": [
    {
     "name": "stdout",
     "output_type": "stream",
     "text": [
      "Running on local URL:  http://127.0.0.1:7860\n",
      "\n",
      "To create a public link, set `share=True` in `launch()`.\n"
     ]
    },
    {
     "data": {
      "text/html": [
       "<div><iframe src=\"http://127.0.0.1:7860/\" width=\"100%\" height=\"500\" allow=\"autoplay; camera; microphone; clipboard-read; clipboard-write;\" frameborder=\"0\" allowfullscreen></iframe></div>"
      ],
      "text/plain": [
       "<IPython.core.display.HTML object>"
      ]
     },
     "metadata": {},
     "output_type": "display_data"
    },
    {
     "data": {
      "text/plain": []
     },
     "execution_count": 8,
     "metadata": {},
     "output_type": "execute_result"
    }
   ],
   "source": [
    "def chat_interface_fn(\n",
    "    runnable: Runnable,\n",
    "    message: str,\n",
    "    history: list[list[str]],  # We don't use the ChatInterface history\n",
    "    session_id: str\n",
    "):\n",
    "    \"\"\"\n",
    "    ChatInterface fn argument. This is invoked everytime the\n",
    "    \"Submit\" button is pressed on the Gradio interface.\n",
    "    \"\"\"\n",
    "    response = runnable.invoke(\n",
    "        {\"input\": message},\n",
    "        config={\"configurable\": {\"session_id\": session_id}},\n",
    "    )\n",
    "    return response.content\n",
    "\n",
    "\n",
    "gr.ChatInterface(\n",
    "    fn=partial(chat_interface_fn, with_message_history),\n",
    "    additional_inputs=[\n",
    "        gr.Textbox(\"\".join(choices(ascii_lowercase, k=8)), label=\"Session ID\"),\n",
    "    ],\n",
    ").launch()"
   ]
  },
  {
   "cell_type": "code",
   "execution_count": null,
   "id": "f49cc7d7",
   "metadata": {},
   "outputs": [],
   "source": []
  }
 ],
 "metadata": {
  "kernelspec": {
   "display_name": "Python 3 (ipykernel)",
   "language": "python",
   "name": "python3"
  },
  "language_info": {
   "codemirror_mode": {
    "name": "ipython",
    "version": 3
   },
   "file_extension": ".py",
   "mimetype": "text/x-python",
   "name": "python",
   "nbconvert_exporter": "python",
   "pygments_lexer": "ipython3",
   "version": "3.12.3"
  }
 },
 "nbformat": 4,
 "nbformat_minor": 5
}
